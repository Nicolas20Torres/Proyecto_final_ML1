





# Importacion de recursos
import os
import sys
project_path = os.path.abspath("..")
if project_path not in sys.path:
    sys.path.append(project_path)

import pandas as pd
import matplotlib.pyplot as plt
from Services.Extract import NameDataset # Importamos el dataset Obesidad
from Services.Transforms import Transforms # Importamos la clase Transforms
from Machine.Models import Models # Importamos  la clase Models


col=['Age', 'Height', 'Weight','FCVC', 'NCP','CH2O','FAF', 'TUE'] # Definicion de las varaibles objeto de estudio
df = Transforms(NameDataset.Dataset_Obesidad)
df.read_df()
PCA = df.seleccionar_columnas(col)
PCA_Model = Models(PCA)


PCA_Model.pca_elbow_method()


PCA_Model.apply_pca(7)


PCA_Model.kmeans_silhouette_and_elbow()


PCA_Model.apply_kmeans(n_clusters=3,random_state=42,use_pca=True)


PCA_Model.plot_clusters_comparison(component_1='PC1', component_2='PC2')


PCA_Model.plot_clusters_comparison(component_1='PC1', component_2='PC2', component_3='PC3')


PCA_Model.plot_clusters_comparison(component_1='PC3', component_2='PC2', component_3='PC1')



