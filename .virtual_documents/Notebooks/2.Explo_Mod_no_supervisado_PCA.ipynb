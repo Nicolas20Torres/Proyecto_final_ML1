





# Importacion de recursos
import os
import sys
project_path = os.path.abspath("..")
if project_path not in sys.path:
    sys.path.append(project_path)

import pandas as pd
import matplotlib.pyplot as plt
from Services.Extract import NameDataset # Importamos el dataset Obesidad
from Services.Transforms import Transforms # Importamos la clase Transforms


# Instancia para lectura de DataFrame
df = Transforms((NameDataset.Dataset_Obesidad))
df.read_df()


df.descripcion()


df.graficar_categorias()






