





# Importacion de recursos
import os
import sys
project_path = os.path.abspath("..")
if project_path not in sys.path:
    sys.path.append(project_path)

import pandas as pd
import matplotlib.pyplot as plt
from Services.Extract import NameDataset # Importamos el dataset Obesidad
from Services.Transforms import Transforms # Importamos la clase Transforms
from Machine.Models import Models # Importamos  la clase Models


df = Transforms(NameDataset.Dataset_Obesidad)
PCA = df.read_df()
PCA_Model = Models(PCA)


PCA_Model.apply_pca()
