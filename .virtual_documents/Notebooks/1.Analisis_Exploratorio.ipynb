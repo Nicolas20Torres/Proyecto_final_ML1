





# Importacion de recursos
import os
import sys
project_path = os.path.abspath("..")
if project_path not in sys.path:
    sys.path.append(project_path)

import pandas as pd
import matplotlib.pyplot as plt
from Services.Extract import NameDataset # Importamos el dataset Obesidad
from Services.Transforms import Transforms # Importamos la clase Transforms
from Machine.Models import Models


# Instancia para lectura de DataFrame
df = Transforms((NameDataset.Dataset_Obesidad))
df.read_df()


df.descripcion()


df.graficar_categorias()





df.graficar_correlation()








df_SMOKE = Transforms((NameDataset.Dataset_Obesidad))
df_SMOKE.read_df()
df_SMOKE.tabla_dinamica(
    filas='NObeyesdad',
    columnas='SMOKE',
    valores=None,
    funciones={'SMOKE':'count'}    
)


df_FAVC = Transforms((NameDataset.Dataset_Obesidad))
df_FAVC.read_df()
df_FAVC.tabla_dinamica(
    filas='NObeyesdad',
    columnas='FAVC',
    valores=None,
    funciones={'FAVC':'count'}    
)


df_SCC = Transforms((NameDataset.Dataset_Obesidad))
df_SCC.read_df()
df_SCC.tabla_dinamica(
    filas='NObeyesdad',
    columnas='SCC',
    valores=None,
    funciones={'SCC':'count'}    
)


df_CAEC = Transforms(NameDataset.Dataset_Obesidad)
df_CAEC.read_df()
df_CAEC.tabla_dinamica(
    filas='NObeyesdad',
    columnas='CAEC',
    valores=None,
    funciones={'CAEC':'count'}    
)





# Instancia de models para llamar analsis de informacion mutua
M = Models(df.df)
col = [
    'CAEC',
    'family_history_with_overweight',
    'CALC',
    'MTRANS',
    'FAVC',
    'SCC',
    'SMOKE']
M.informacion_mutua(col,'NObeyesdad')



